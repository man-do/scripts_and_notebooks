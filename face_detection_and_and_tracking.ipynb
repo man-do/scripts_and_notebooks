{
  "nbformat": 4,
  "nbformat_minor": 0,
  "metadata": {
    "colab": {
      "name": "face_detection_and_and_tracking.ipynb",
      "provenance": [],
      "collapsed_sections": [],
      "authorship_tag": "ABX9TyOEcNsxBA5U17b+gHdMpXn1",
      "include_colab_link": true
    },
    "kernelspec": {
      "display_name": "Python 3",
      "name": "python3"
    },
    "language_info": {
      "name": "python"
    },
    "widgets": {
      "application/vnd.jupyter.widget-state+json": {
        "af745395d8264aeaa37eafe966db1b66": {
          "model_module": "@jupyter-widgets/controls",
          "model_name": "VideoModel",
          "model_module_version": "1.5.0",
          "state": {
            "_view_name": "VideoView",
            "_dom_classes": [],
            "_model_name": "VideoModel",
            "format": "mp4",
            "_view_module": "@jupyter-widgets/controls",
            "_model_module_version": "1.5.0",
            "controls": true,
            "_view_count": null,
            "width": "",
            "_view_module_version": "1.5.0",
            "layout": "IPY_MODEL_0cd98f123e8d4d96a771e3fd5a9aa50c",
            "height": "",
            "_model_module": "@jupyter-widgets/controls",
            "loop": true,
            "autoplay": true
          }
        },
        "0cd98f123e8d4d96a771e3fd5a9aa50c": {
          "model_module": "@jupyter-widgets/base",
          "model_name": "LayoutModel",
          "model_module_version": "1.2.0",
          "state": {
            "_view_name": "LayoutView",
            "grid_template_rows": null,
            "right": null,
            "justify_content": null,
            "_view_module": "@jupyter-widgets/base",
            "overflow": null,
            "_model_module_version": "1.2.0",
            "_view_count": null,
            "flex_flow": null,
            "width": null,
            "min_width": null,
            "border": null,
            "align_items": null,
            "bottom": null,
            "_model_module": "@jupyter-widgets/base",
            "top": null,
            "grid_column": null,
            "overflow_y": null,
            "overflow_x": null,
            "grid_auto_flow": null,
            "grid_area": null,
            "grid_template_columns": null,
            "flex": null,
            "_model_name": "LayoutModel",
            "justify_items": null,
            "grid_row": null,
            "max_height": null,
            "align_content": null,
            "visibility": null,
            "align_self": null,
            "height": null,
            "min_height": null,
            "padding": null,
            "grid_auto_rows": null,
            "grid_gap": null,
            "max_width": null,
            "order": null,
            "_view_module_version": "1.2.0",
            "grid_template_areas": null,
            "object_position": null,
            "object_fit": null,
            "grid_auto_columns": null,
            "margin": null,
            "display": null,
            "left": null
          }
        }
      }
    }
  },
  "cells": [
    {
      "cell_type": "markdown",
      "metadata": {
        "id": "view-in-github",
        "colab_type": "text"
      },
      "source": [
        "<a href=\"https://colab.research.google.com/github/man-do/scripts_and_notebooks/blob/main/face_detection_and_and_tracking.ipynb\" target=\"_parent\"><img src=\"https://colab.research.google.com/assets/colab-badge.svg\" alt=\"Open In Colab\"/></a>"
      ]
    },
    {
      "cell_type": "code",
      "metadata": {
        "id": "rTtaCVjBcDY7"
      },
      "source": [
        "import cv2\n",
        "import os\n",
        "from google.colab.patches import cv2_imshow\n",
        "from ipywidgets import Video, Image"
      ],
      "execution_count": null,
      "outputs": []
    },
    {
      "cell_type": "code",
      "metadata": {
        "colab": {
          "base_uri": "https://localhost:8080/"
        },
        "id": "b4EBbdWIcNBu",
        "outputId": "9c95d616-d89c-4509-c009-45b5daeb3c17"
      },
      "source": [
        "# Set up the workspace\n",
        "!sudo apt install ffmpeg\n",
        "\n",
        "if not os.path.isfile('test_video.mp4'):\n",
        "  #!wget --quiet -O test_video.mp4 https://media.istockphoto.com/videos/black-man-and-white-man-hugging-and-smiling-equality-friendship-video-id1253066043\n",
        "  !wget --quiet -O test_video.mp4 https://media.istockphoto.com/videos/two-businessmen-talking-while-walking-in-office-video-id1176752673\n",
        "\n",
        "if not os.path.isfile('haarcascade_frontalface_default.xml'):\n",
        "  !wget --quiet https://raw.githubusercontent.com/opencv/opencv/4.x/data/haarcascades/haarcascade_frontalface_default.xml\n",
        "\n",
        "if not os.path.isfile('test_img.png'):\n",
        "  !wget --quiet -O test_img.png https://images.ctfassets.net/16nm6vz43ids/4Ybw3hTeNyg3Av2TbeyhnX/745b812e0f050cd0f13ff5ca432e12d2/how-to-connect-two-pairs-of-airpods.png\n",
        "  #!wget --quiet -O test_img.jpg https://image.shutterstock.com/image-photo/image-cute-young-loving-couple-260nw-1130187179.jpg"
      ],
      "execution_count": null,
      "outputs": [
        {
          "output_type": "stream",
          "name": "stdout",
          "text": [
            "Reading package lists... Done\n",
            "Building dependency tree       \n",
            "Reading state information... Done\n",
            "ffmpeg is already the newest version (7:3.4.8-0ubuntu0.2).\n",
            "0 upgraded, 0 newly installed, 0 to remove and 37 not upgraded.\n"
          ]
        }
      ]
    },
    {
      "cell_type": "code",
      "metadata": {
        "id": "hg0Bapmj8iiB"
      },
      "source": [
        "face_cascade = cv2.CascadeClassifier()\n",
        "model_location = cv2.samples.findFile('haarcascade_frontalface_default.xml')\n",
        "face_cascade.load(model_location)\n",
        "OPENCV_OBJECT_TRACKERS = {\n",
        "\t\"CSRT\": cv2.TrackerCSRT_create,\n",
        "\t\"KCF\": cv2.TrackerKCF_create,\n",
        "\t\"BOOSTING\": cv2.TrackerBoosting_create,\n",
        "\t\"MIL\": cv2.TrackerMIL_create,\n",
        "\t\"TLD\": cv2.TrackerTLD_create,\n",
        "\t\"MEDIANFLOW\": cv2.TrackerMedianFlow_create,\n",
        "\t\"MOSSE\": cv2.TrackerMOSSE_create,\n",
        "\t\"GOTURN\": cv2.TrackerGOTURN_create\n",
        "}"
      ],
      "execution_count": null,
      "outputs": []
    },
    {
      "cell_type": "code",
      "metadata": {
        "id": "E5VB0MOtyjCD"
      },
      "source": [
        "font = cv2.FONT_HERSHEY_COMPLEX_SMALL\n",
        "fontScale = 1\n",
        "color_rect = (127,0,255)\n",
        "color_text = (255,255,255)\n",
        "thickness = 1\n",
        "def draw_faces(frame, faces):\n",
        "  i = 1\n",
        "  if faces is ():\n",
        "    frame = cv2.putText(frame, 'No faces found', (130,320), font,  3,color_text, thickness, 2)\n",
        "  for (x,y,w,h) in faces:\n",
        "    cv2.rectangle(frame, (int(x),int(y)), (int(x+w),int(y+h)), color_rect, 2)\n",
        "    frame = cv2.putText(frame, f'face {i}', (int(x),int(y+h-3)), font,  1,color_text, thickness, 2)\n",
        "    i += 1\n",
        "  return frame"
      ],
      "execution_count": null,
      "outputs": []
    },
    {
      "cell_type": "code",
      "metadata": {
        "id": "fFJoZ_FkIL92"
      },
      "source": [
        "def detect_track_faces(video_file, tracker_name='MOSSE'):\n",
        "  cap = cv2.VideoCapture(video_file)\n",
        "  length = int(cap.get(cv2.CAP_PROP_FRAME_COUNT))\n",
        "  ok, frame = cap.read()\n",
        "  w, h, ch = frame.shape\n",
        "  gray_frame = cv2.cvtColor(frame, cv2.COLOR_RGB2GRAY)\n",
        "  faces = face_cascade.detectMultiScale(gray_frame, 1.0485258, 6)\n",
        "\n",
        "  trackers = cv2.MultiTracker_create()\n",
        "  trackers.add(OPENCV_OBJECT_TRACKERS[tracker_name](), frame, tuple(faces[0]))\n",
        "  trackers.add(OPENCV_OBJECT_TRACKERS[tracker_name](), frame, tuple(faces[1]))\n",
        "\n",
        "  frame = draw_faces(frame, faces)\n",
        "  output_imgs = [frame]\n",
        "  output_imgs.append(frame)\n",
        "  out = cv2.VideoWriter('output_video.avi',cv2.VideoWriter_fourcc('M', 'J', 'P', 'G'), 30.0, (640, 360))\n",
        "  out.write(frame)\n",
        "\n",
        "  for i in range(length-1):\n",
        "    ok, frame = cap.read()\n",
        "    if not ok:\n",
        "      break\n",
        "    ok, faces = trackers.update(frame)\n",
        "    frame = draw_faces(frame, faces)\n",
        "    output_imgs.append(frame)\n",
        "    out.write(frame)\n",
        "  \n",
        "  cap.release()\n",
        "  out.release()\n",
        "  "
      ],
      "execution_count": null,
      "outputs": []
    },
    {
      "cell_type": "code",
      "metadata": {
        "id": "cKNqQiLeX6hM"
      },
      "source": [
        "detect_track_faces('test_video.mp4')"
      ],
      "execution_count": null,
      "outputs": []
    },
    {
      "cell_type": "code",
      "metadata": {
        "colab": {
          "base_uri": "https://localhost:8080/",
          "height": 385,
          "referenced_widgets": [
            "af745395d8264aeaa37eafe966db1b66",
            "0cd98f123e8d4d96a771e3fd5a9aa50c"
          ]
        },
        "id": "CDqWxQWMxBM9",
        "outputId": "5002d470-5a4e-4eb3-f6b8-3f6b70eaa989"
      },
      "source": [
        "!ffmpeg -hide_banner -loglevel error -i output_video.avi output_video.mp4 -y\n",
        "Video.from_file('output_video.mp4')"
      ],
      "execution_count": null,
      "outputs": [
        {
          "output_type": "display_data",
          "data": {
            "application/vnd.jupyter.widget-view+json": {
              "model_id": "af745395d8264aeaa37eafe966db1b66",
              "version_minor": 0,
              "version_major": 2
            },
            "text/plain": [
              "Video(value=b'\\x00\\x00\\x00 ftypisom\\x00\\x00\\x02\\x00isomiso2avc1mp41\\x00\\x00\\x00\\x08free\\x00\\x13@Mmdat\\x00\\x00\\…"
            ]
          },
          "metadata": {}
        }
      ]
    },
    {
      "cell_type": "code",
      "metadata": {
        "id": "yVOfx03I2aBf"
      },
      "source": [
        ""
      ],
      "execution_count": null,
      "outputs": []
    }
  ]
}